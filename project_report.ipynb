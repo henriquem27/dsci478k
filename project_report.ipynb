{
 "cells": [
  {
   "cell_type": "markdown",
   "id": "5c927d24-8e3f-4e33-a8d9-351f14e579c7",
   "metadata": {},
   "source": [
    "# I'm Something of a Painter Myself\n",
    "\n",
    "By: Henrique Magalhaes Rio, Kilbourne Charrier, Jonathan Olavarria, and Ethan Creagar"
   ]
  },
  {
   "cell_type": "markdown",
   "id": "931f6945-c7f1-4a82-91ae-3336162baa1e",
   "metadata": {},
   "source": [
    "Rubric:\n",
    "\n",
    "    20 points: Following the rules. Your project write-up and code must be uploaded to Canvas by March 2 at 3:00 p.m.\n",
    "\n",
    "    50 points: Overall quality of the project. Further breakdown of the 50 points:\n",
    "\n",
    "        –  (8 points) Introduction: The write-up must have a clearly written introduction which summarizes the problem and your solution. The introduction should also contain an outline (written out in full sentences) of the contents of the remainder of the write-up.\n",
    "\n",
    "        –  (8 points) Problem Description: The problem to be solved should be clearly de- scribed and motivated.\n",
    "\n",
    "        –  (10 points) Quality of Solution: The methods employed in your solution should be appropriate for the problem at hand and explained well.\n",
    "\n",
    "        –  (10 points) Cohesiveness: The write-up should read like a single, coherent docu- ment not a collection of disparate parts. The formatting should also be consistent.\n",
    "\n",
    "        –  (9 points) Sources and Bibliography: All material coming from a third party should be properly cited in the text. (Note that this does not mean that plagiarism is only docked 9 points. These points concern the quality of good faith citations.)\n",
    "\n",
    "        –  (5 points) Grammar, Spelling, and Mechanics: The writing should be free or almost free of errors.\n",
    "\n"
   ]
  },
  {
   "cell_type": "markdown",
   "id": "dab97fd4-a0f1-4000-8bf3-d2f29f941fa5",
   "metadata": {},
   "source": [
    "#### Introduction\n",
    "\n"
   ]
  },
  {
   "cell_type": "markdown",
   "id": "e5436418-7594-41b6-ab76-87533fa77f08",
   "metadata": {},
   "source": [
    "At a first approximation, it may not be obvious that aritsts and machine learning algorithms have anything in common. While artists use their human creativity to develop something original, algorithms are only able to use the information that they've been given to predict what may happen if another similar piece of information is provided to them. However, upon further inspection, both rely heavily on a common ally: patterns. While artists like Claude Monet rely on similar brush strokes and models to create their distinctive style, machine learning algorithms rely on patterns in data to stay consistant in order to predict what might come next given never-before-seen observations. It might then be natural to wonder whether a machine learning algorithm could be trained on the patterns that an artist like Monet used in his art to create new \"paintings\" that imitate the same style. This is the problem presented in the Kaggle Competition, \"I'm Something of a Painter Myself\". In this competition, participants are provided with Monet paintings as well as real photos with scenery similar to that which Monet might have used as a model for his artwork, and attempt to turn these photos into the style of Monet using an algorithm called a Generative Adversarial Network (GAN). GANs use dualing generator and discriminator models to create videos, music, photos, or other types of media that closely imitate something that might have been created by a human; in this case, Monet. Through the use of PyTorch's neural network software, we created generator and discriminator that modified real-life photos into pictures that imitated an Impressionist painting style.\n",
    "\n",
    "Below, we will first describe the problem and the mechanics of GANs in greater detail. We will then detail our methods of creating these networks, including the software used, the issues faced, and the structure of our final model. Finally, we will provide examples of the \"paintings\" that our model created and discuss the accuracy of our imitations as well as how they might be improved upon."
   ]
  },
  {
   "cell_type": "markdown",
   "id": "9882016b-88ba-4d6a-ba11-9a945c5abdc7",
   "metadata": {},
   "source": [
    "#### Problem Description"
   ]
  },
  {
   "cell_type": "markdown",
   "id": "5eb973c2-464a-4683-83e0-679e58612b8d",
   "metadata": {},
   "source": []
  },
  {
   "cell_type": "markdown",
   "id": "83217841-1aea-455a-9ca9-85dc0765aaff",
   "metadata": {},
   "source": [
    "#### Solution"
   ]
  },
  {
   "cell_type": "markdown",
   "id": "b76d6378-64a4-40f9-b1b0-f40812b19ba8",
   "metadata": {},
   "source": []
  },
  {
   "cell_type": "markdown",
   "id": "9d46957e-58ca-4d4b-b26a-8634ce2482c9",
   "metadata": {},
   "source": [
    "#### Results"
   ]
  },
  {
   "cell_type": "markdown",
   "id": "ac9de478-d434-4095-a99d-e3e88bf936da",
   "metadata": {},
   "source": []
  },
  {
   "cell_type": "markdown",
   "id": "ccbbf53b-fda5-4bb7-a61d-0e44f81126f1",
   "metadata": {},
   "source": [
    "#### Sources"
   ]
  },
  {
   "cell_type": "markdown",
   "id": "14a6cef2-f2c4-49b0-8831-41a49450ae6c",
   "metadata": {},
   "source": []
  }
 ],
 "metadata": {
  "kernelspec": {
   "display_name": "base",
   "language": "python",
   "name": "base"
  },
  "language_info": {
   "codemirror_mode": {
    "name": "ipython",
    "version": 3
   },
   "file_extension": ".py",
   "mimetype": "text/x-python",
   "name": "python",
   "nbconvert_exporter": "python",
   "pygments_lexer": "ipython3",
   "version": "3.9.10"
  }
 },
 "nbformat": 4,
 "nbformat_minor": 5
}
