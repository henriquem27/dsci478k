{
 "cells": [
  {
   "cell_type": "markdown",
   "id": "5c927d24-8e3f-4e33-a8d9-351f14e579c7",
   "metadata": {},
   "source": [
    "## I'm Something of a Painter Myself\n",
    "\n",
    "Henrique Magalhaes Rio, Kilbourne Charrier, Jonathan Olavarria, Ethan Creagar"
   ]
  },
  {
   "cell_type": "code",
   "execution_count": null,
   "id": "d043b914-3de7-4224-95e6-f9f7c0822d01",
   "metadata": {},
   "outputs": [],
   "source": []
  }
 ],
 "metadata": {
  "kernelspec": {
   "display_name": "Python 3 (ipykernel)",
   "language": "python",
   "name": "python3"
  },
  "language_info": {
   "codemirror_mode": {
    "name": "ipython",
    "version": 3
   },
   "file_extension": ".py",
   "mimetype": "text/x-python",
   "name": "python",
   "nbconvert_exporter": "python",
   "pygments_lexer": "ipython3",
   "version": "3.9.10"
  }
 },
 "nbformat": 4,
 "nbformat_minor": 5
}
